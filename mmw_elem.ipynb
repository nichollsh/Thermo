{
 "cells": [
  {
   "cell_type": "code",
   "execution_count": 1,
   "metadata": {},
   "outputs": [],
   "source": [
    "import numpy as np\n",
    "import glob"
   ]
  },
  {
   "cell_type": "code",
   "execution_count": 14,
   "metadata": {},
   "outputs": [
    {
     "name": "stdout",
     "output_type": "stream",
     "text": [
      "{'H': 1.008, 'He': 4.002, 'Li': 6.94, 'Be': 9.012, 'B': 10.81, 'C': 12.011, 'N': 14.007, 'O': 15.999, 'F': 18.998, 'Ne': 20.1797, 'Na': 22.989, 'Mg': 24.305, 'Al': 26.981, 'Si': 28.085, 'P': 30.973, 'S': 32.06, 'Cl': 35.45, 'Ar': 39.95, 'K': 39.0983, 'Ca': 40.078, 'Sc': 44.955, 'Ti': 47.867, 'V': 50.9415, 'Cr': 51.9961, 'Mn': 54.938, 'Fe': 55.845, 'Co': 58.933, 'Ni': 58.6934, 'Cu': 63.546, 'Zn': 65.38, 'Ga': 69.723, 'Ge': 72.63, 'As': 74.921, 'Se': 78.971, 'Br': 79.904, 'Kr': 83.798, 'Rb': 85.4678, 'Sr': 87.62, 'Y': 88.905, 'Zr': 91.224, 'Nb': 92.906, 'Mo': 95.95, 'Ru': 101.07, 'Rh': 102.905, 'Pd': 106.42, 'Ag': 107.8682, 'Cd': 112.414, 'In': 114.818, 'Sn': 118.71, 'Sb': 121.76, 'Te': 127.6, 'I': 126.904, 'Xe': 131.293, 'Cs': 132.905, 'Ba': 137.327, 'La': 138.905, 'Ce': 140.116, 'Pr': 140.907, 'Nd': 144.242, 'Sm': 150.36, 'Eu': 151.964, 'Gd': 157.25, 'Tb': 158.925, 'Dy': 162.5, 'Ho': 164.93, 'Er': 167.259, 'Tm': 168.934, 'Yb': 173.045, 'Lu': 174.9668, 'Hf': 178.486, 'Ta': 180.947, 'W': 183.84, 'Re': 186.207, 'Os': 190.23, 'Ir': 192.217, 'Pt': 195.084, 'Au': 196.966, 'Hg': 200.592, 'Tl': 204.38, 'Pb': 207.2, 'Bi': 208.98, 'Th': 232.0377, 'Pa': 231.035, 'U': 238.028}\n"
     ]
    }
   ],
   "source": [
    "# Read element masses from elements.dat\n",
    "fpath = \"mmw/elements.dat\"\n",
    "\n",
    "with open(fpath,'r') as hdl:\n",
    "    lines = hdl.readlines()\n",
    "\n",
    "elem = {}\n",
    "for l in lines[2:]:\n",
    "    s = l.split()\n",
    "\n",
    "    # key \n",
    "    k = s[1].strip()\n",
    "\n",
    "    # value \n",
    "    v = s[3].strip()\n",
    "    v = v.split(\"(\")[0]\n",
    "    if \"[\" in v:\n",
    "        continue \n",
    "    v = float(v)\n",
    "\n",
    "    # store \n",
    "    elem[k] = v\n",
    "\n",
    "print(elem)\n",
    "\n",
    "print(\"Writing...\")\n",
    "head = \"Symbol , Mass [kg mol-1]\"\n",
    "X = []\n",
    "for k in elem.keys():\n",
    "    X.append([str(k),round(elem[k]*1.0e-3,6)])\n",
    "np.savetxt(\"mmw/elements.csv\",X,fmt=[\"%s\",\"%s\"],delimiter=',',header=head)"
   ]
  },
  {
   "cell_type": "code",
   "execution_count": 3,
   "metadata": {},
   "outputs": [],
   "source": [
    "# Count atoms in a molecule \n",
    "def count_atoms(m:str):\n",
    "        # Setup \n",
    "        out = {}\n",
    "        nchar = len(m)\n",
    "        i = 0\n",
    "        e = \"\"\n",
    "        count = -1\n",
    "        last = False\n",
    "\n",
    "        # Loop through string\n",
    "        while i < nchar:\n",
    "            last = (i == nchar-1)\n",
    "\n",
    "            # new element \n",
    "            print(m[i])\n",
    "            if m[i].isupper():\n",
    "                count = 0\n",
    "                e = str(m[i])\n",
    "                if (not last) and (m[i+1].islower()):  # two letter element name \n",
    "                    e = e+str(m[i+1])\n",
    "                    i += 1\n",
    "\n",
    "            last = (i == nchar-1)\n",
    "\n",
    "            # get count \n",
    "            if count == 0:   # expecting number\n",
    "                # number of atoms \n",
    "                if last or m[i+1].isalpha(): # got letter => count=1\n",
    "                    count = 1\n",
    "                else:\n",
    "                    count = int(m[i+1]) \n",
    "\n",
    "                # repeated element \n",
    "                if e in out.keys():\n",
    "                    out[e] += count \n",
    "                else:\n",
    "                    out[e] = count \n",
    "\n",
    "                # reset \n",
    "                e = \"\"\n",
    "                count = -1 \n",
    "            i += 1\n",
    "        \n",
    "        return out "
   ]
  }
 ],
 "metadata": {
  "kernelspec": {
   "display_name": "proteus",
   "language": "python",
   "name": "python3"
  },
  "language_info": {
   "codemirror_mode": {
    "name": "ipython",
    "version": 3
   },
   "file_extension": ".py",
   "mimetype": "text/x-python",
   "name": "python",
   "nbconvert_exporter": "python",
   "pygments_lexer": "ipython3",
   "version": "3.12.2"
  }
 },
 "nbformat": 4,
 "nbformat_minor": 2
}
