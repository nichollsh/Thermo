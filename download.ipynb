{
 "cells": [
  {
   "cell_type": "code",
   "execution_count": 17,
   "metadata": {},
   "outputs": [],
   "source": [
    "import requests "
   ]
  },
  {
   "cell_type": "code",
   "execution_count": 18,
   "metadata": {},
   "outputs": [],
   "source": [
    "def download_txt(url:str):\n",
    "    # get file \n",
    "    response = requests.get(url)\n",
    "    if response.status_code == 200:\n",
    "        content = response.text\n",
    "    else:\n",
    "        return\n",
    "\n",
    "    # get molecule name \n",
    "    lines = content.split(\"\\n\")\n",
    "    molec = lines[0].split(\"\\t\")[-1]\n",
    "\n",
    "    # skip ions/condensates\n",
    "    for c in [\"+\",\"-\",\"(l\",\"(c\",\"(f\"]:\n",
    "        if c in molec:\n",
    "            return\n",
    "    \n",
    "    # get gas formula \n",
    "    gas = molec.split(\"(\")[0]\n",
    "\n",
    "    # save data\n",
    "    with open(\"web/%s.txt\"%gas,'w') as hdl:\n",
    "        hdl.write(\"URL: %s \\n\"%url)\n",
    "        hdl.write(content)\n"
   ]
  },
  {
   "cell_type": "code",
   "execution_count": 20,
   "metadata": {},
   "outputs": [
    {
     "name": "stdout",
     "output_type": "stream",
     "text": [
      "H (%): 0 5 10 15 20 25 30 35 40 45 50 55 60 65 70 75 80 85 90 95 100 \n",
      "C (%): 0 5 10 15 20 25 30 35 40 45 50 55 60 65 70 75 80 85 90 95 100 \n",
      "N (%): 0 5 10 15 20 25 30 35 40 "
     ]
    }
   ],
   "source": [
    "for e in ['H','C','N','O']:\n",
    "    print(\"%s (%%): \"%e, end=\"\", flush=True)\n",
    "    imax = 200\n",
    "    pct = 0\n",
    "    pct_lst = -1\n",
    "    for i in range(imax):\n",
    "        pct = int((i+1)/imax*100)\n",
    "        if (pct%5==0) and (pct != pct_lst):\n",
    "            pct_lst = pct\n",
    "            print(\"%d \"%pct, end=\"\", flush=True)\n",
    "        url = \"https://janaf.nist.gov/tables/%s-%03d.txt\"%(e,i)\n",
    "        download_txt(url)\n",
    "    print(\"\")"
   ]
  }
 ],
 "metadata": {
  "kernelspec": {
   "display_name": "proteus",
   "language": "python",
   "name": "python3"
  },
  "language_info": {
   "codemirror_mode": {
    "name": "ipython",
    "version": 3
   },
   "file_extension": ".py",
   "mimetype": "text/x-python",
   "name": "python",
   "nbconvert_exporter": "python",
   "pygments_lexer": "ipython3",
   "version": "3.12.2"
  }
 },
 "nbformat": 4,
 "nbformat_minor": 2
}
