{
 "cells": [
  {
   "cell_type": "code",
   "execution_count": 1,
   "metadata": {},
   "outputs": [],
   "source": [
    "import numpy as np\n",
    "import glob\n",
    "\n",
    "import antoine\n",
    "import water\n",
    "import mmw\n",
    "\n",
    "tmin = 1.0\n",
    "dt   = 1.0\n"
   ]
  },
  {
   "cell_type": "code",
   "execution_count": 2,
   "metadata": {},
   "outputs": [],
   "source": [
    "def write_csv(gas,ts,ps):\n",
    "    X = np.array([ts,ps]).T \n",
    "    head = \"T [K] , P_sat [Pa]\"\n",
    "    fpath = \"sat/dat/%s_sat.csv\"%gas \n",
    "\n",
    "    np.savetxt(fpath, X, fmt=\"%.9e\", delimiter=',', header=head)\n",
    "\n",
    "def write_tripcrit(gas, t_trip, t_crit):\n",
    "\n",
    "    X = [t_trip]\n",
    "    head = \"T_trip [K]\"\n",
    "    fpath = \"sat/dat/%s_trip.csv\"%gas \n",
    "    np.savetxt(fpath, X, fmt=\"%.9e\", delimiter=',', header=head)\n",
    "\n",
    "    X = [t_crit]\n",
    "    head = \"T_crit [K]\"\n",
    "    fpath = \"sat/dat/%s_crit.csv\"%gas \n",
    "    np.savetxt(fpath, X, fmt=\"%.9e\", delimiter=',', header=head)"
   ]
  },
  {
   "cell_type": "code",
   "execution_count": 3,
   "metadata": {},
   "outputs": [],
   "source": [
    "# Main gases\n",
    "for gas in antoine.gases.keys():\n",
    "    gdict = antoine.gases[gas]\n",
    "\n",
    "    t_arr = np.arange(tmin, gdict[\"T_crit\"], dt)\n",
    "    t_arr = np.concatenate((t_arr, [gdict[\"T_crit\"]]))\n",
    "    p_arr = [antoine.evaluate(t, gdict) for t in t_arr]\n",
    "    write_csv(gas, t_arr, p_arr)\n",
    "    write_tripcrit(gas, gdict[\"T_trip\"], gdict[\"T_crit\"])\n"
   ]
  },
  {
   "cell_type": "code",
   "execution_count": 4,
   "metadata": {},
   "outputs": [],
   "source": [
    "# Water\n",
    "t_arr = np.arange(tmin, water.T_crit, dt)\n",
    "t_arr = np.concatenate((t_arr, [water.T_crit]))\n",
    "arr_p = [water.psat_both(t) for t in t_arr]\n",
    "\n",
    "write_csv(\"H2O\",t_arr, arr_p)\n",
    "write_tripcrit(\"H2O\", water.T_trip, water.T_crit)"
   ]
  }
 ],
 "metadata": {
  "kernelspec": {
   "display_name": "proteus",
   "language": "python",
   "name": "python3"
  },
  "language_info": {
   "codemirror_mode": {
    "name": "ipython",
    "version": 3
   },
   "file_extension": ".py",
   "mimetype": "text/x-python",
   "name": "python",
   "nbconvert_exporter": "python",
   "pygments_lexer": "ipython3",
   "version": "3.12.2"
  }
 },
 "nbformat": 4,
 "nbformat_minor": 2
}
