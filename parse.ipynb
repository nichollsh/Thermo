{
 "cells": [
  {
   "cell_type": "code",
   "execution_count": 57,
   "metadata": {},
   "outputs": [],
   "source": [
    "import numpy as np\n",
    "import glob\n",
    "import matplotlib.pyplot as plt"
   ]
  },
  {
   "cell_type": "code",
   "execution_count": 62,
   "metadata": {},
   "outputs": [],
   "source": [
    "def convert_name(name:str):\n",
    "    # drop number from single-atoms in molecule \n",
    "    gas = name[0]+\"\"\n",
    "    for i in range(1,len(name)):\n",
    "        if (name[i] == \"1\") and (name[i-1].isalpha()):\n",
    "            continue \n",
    "        gas += name[i]\n",
    "    return gas"
   ]
  },
  {
   "cell_type": "code",
   "execution_count": 80,
   "metadata": {},
   "outputs": [],
   "source": [
    "def plot_gas(fpath:str):\n",
    "    gas = fpath.split(\"/\")[-1].split(\".\")[0]    \n",
    "    data = np.loadtxt(fpath, delimiter=',').T\n",
    "    t = data[0]\n",
    "    c = data[1]\n",
    "\n",
    "    fig,ax = plt.subplots(1,1)\n",
    "    ax.plot(t,c)\n",
    "    ax.set(xlabel=\"T [K]\", ylabel=\"Cp [J mol-1 K-1]\")\n",
    "    fig.savefig(\"plt/%s.png\"%gas, bbox_inches='tight', dpi=150)\n",
    "    plt.close(\"all\")"
   ]
  },
  {
   "cell_type": "code",
   "execution_count": 87,
   "metadata": {},
   "outputs": [],
   "source": [
    "def convert_txt(inpath:str):\n",
    "    # get gas name \n",
    "    gas = inpath.split(\"/\")[-1].split(\".\")[0]\n",
    "    gas = convert_name(gas)\n",
    "\n",
    "    # load data from txt\n",
    "    data = np.loadtxt(inpath, skiprows=3, usecols=[0,1], delimiter='\\t')\n",
    "\n",
    "    # truncate data\n",
    "    tmin = -1.0\n",
    "    tmax = 4001.0\n",
    "    data_trunc = []\n",
    "    for d in data:\n",
    "        if tmin <= d[0] <= tmax:\n",
    "            data_trunc.append(d)\n",
    "\n",
    "    # save data to csv\n",
    "    save_header = \"T [K] , Cp [J mol-1 K-1]\"\n",
    "    outpath = \"dat/%s.csv\"%gas\n",
    "    np.savetxt(outpath, data_trunc, header=save_header, delimiter=',', fmt=\"%.4e\")\n",
    "    return outpath"
   ]
  },
  {
   "cell_type": "code",
   "execution_count": 88,
   "metadata": {},
   "outputs": [],
   "source": [
    "for f in glob.glob(\"web/*.txt\"):\n",
    "    o = convert_txt(f)\n",
    "    plot_gas(o)"
   ]
  }
 ],
 "metadata": {
  "kernelspec": {
   "display_name": "proteus",
   "language": "python",
   "name": "python3"
  },
  "language_info": {
   "codemirror_mode": {
    "name": "ipython",
    "version": 3
   },
   "file_extension": ".py",
   "mimetype": "text/x-python",
   "name": "python",
   "nbconvert_exporter": "python",
   "pygments_lexer": "ipython3",
   "version": "3.12.2"
  }
 },
 "nbformat": 4,
 "nbformat_minor": 2
}
