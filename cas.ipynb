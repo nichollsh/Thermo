{
 "cells": [
  {
   "cell_type": "code",
   "execution_count": 1,
   "metadata": {},
   "outputs": [],
   "source": [
    "import numpy as np"
   ]
  },
  {
   "cell_type": "code",
   "execution_count": 2,
   "metadata": {},
   "outputs": [],
   "source": [
    "with open(\"cas/wiki.dat\",'r') as hdl:\n",
    "    source = hdl.read()"
   ]
  },
  {
   "cell_type": "code",
   "execution_count": 8,
   "metadata": {},
   "outputs": [],
   "source": [
    "def has_number(s):\n",
    "    return any(char.isdigit() for char in s)"
   ]
  },
  {
   "cell_type": "code",
   "execution_count": 11,
   "metadata": {},
   "outputs": [
    {
     "name": "stdout",
     "output_type": "stream",
     "text": [
      "['Ac2O3 ', 'actinium(III) oxide ', '12002-61-8']\n"
     ]
    },
    {
     "ename": "NameError",
     "evalue": "name 'name' is not defined",
     "output_type": "error",
     "traceback": [
      "\u001b[0;31m---------------------------------------------------------------------------\u001b[0m",
      "\u001b[0;31mNameError\u001b[0m                                 Traceback (most recent call last)",
      "Cell \u001b[0;32mIn[11], line 22\u001b[0m\n\u001b[1;32m     15\u001b[0m \u001b[38;5;28mprint\u001b[39m(split)\n\u001b[1;32m     17\u001b[0m \u001b[38;5;66;03m# check if has two names\u001b[39;00m\n\u001b[1;32m     20\u001b[0m c \u001b[38;5;241m=\u001b[39m {\n\u001b[1;32m     21\u001b[0m     \u001b[38;5;124m\"\u001b[39m\u001b[38;5;124mformula\u001b[39m\u001b[38;5;124m\"\u001b[39m:  split[\u001b[38;5;241m0\u001b[39m]\u001b[38;5;241m.\u001b[39mstrip(),\n\u001b[0;32m---> 22\u001b[0m     \u001b[38;5;124m\"\u001b[39m\u001b[38;5;124mname\u001b[39m\u001b[38;5;124m\"\u001b[39m:     \u001b[43mname\u001b[49m,\n\u001b[1;32m     23\u001b[0m     \u001b[38;5;124m\"\u001b[39m\u001b[38;5;124mCAS\u001b[39m\u001b[38;5;124m\"\u001b[39m:      split[\u001b[38;5;241m-\u001b[39m\u001b[38;5;241m1\u001b[39m]\u001b[38;5;241m.\u001b[39mstrip()\n\u001b[1;32m     24\u001b[0m }\n\u001b[1;32m     25\u001b[0m chems\u001b[38;5;241m.\u001b[39mappend(c)\n",
      "\u001b[0;31mNameError\u001b[0m: name 'name' is not defined"
     ]
    }
   ],
   "source": [
    "chems = []\n",
    "for l in source:\n",
    "    # drop new line \n",
    "    l = l[:-1]\n",
    "\n",
    "    # check if does not have CAS number\n",
    "    if (len(l) < 4) or (l[-1].isalpha()):\n",
    "        continue \n",
    "    if not has_number(l):\n",
    "        continue    \n",
    "    if \"-\" not in l.split(\"\\t\")[-1]:\n",
    "        continue\n",
    "    \n",
    "    # get columns of row\n",
    "    split = l.split(\"\\t\")\n",
    "    print(split)\n",
    "\n",
    "    # check if has two names\n",
    "\n",
    "\n",
    "    c = {\n",
    "        \"formula\":  split[0].strip(),\n",
    "        \"name\":     name,\n",
    "        \"CAS\":      split[-1].strip()\n",
    "    }\n",
    "    chems.append(c)\n",
    "    "
   ]
  },
  {
   "cell_type": "code",
   "execution_count": null,
   "metadata": {},
   "outputs": [],
   "source": [
    "#"
   ]
  },
  {
   "cell_type": "code",
   "execution_count": null,
   "metadata": {},
   "outputs": [],
   "source": []
  },
  {
   "cell_type": "markdown",
   "metadata": {},
   "source": []
  },
  {
   "cell_type": "code",
   "execution_count": null,
   "metadata": {},
   "outputs": [],
   "source": []
  },
  {
   "cell_type": "code",
   "execution_count": null,
   "metadata": {},
   "outputs": [],
   "source": []
  }
 ],
 "metadata": {
  "kernelspec": {
   "display_name": "proteus",
   "language": "python",
   "name": "python3"
  },
  "language_info": {
   "codemirror_mode": {
    "name": "ipython",
    "version": 3
   },
   "file_extension": ".py",
   "mimetype": "text/x-python",
   "name": "python",
   "nbconvert_exporter": "python",
   "pygments_lexer": "ipython3",
   "version": "3.12.2"
  }
 },
 "nbformat": 4,
 "nbformat_minor": 2
}
